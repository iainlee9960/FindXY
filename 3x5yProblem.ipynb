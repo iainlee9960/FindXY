{
 "cells": [
  {
   "cell_type": "code",
   "execution_count": 16,
   "id": "e843279a-967e-4321-9510-c6bef35aaef8",
   "metadata": {},
   "outputs": [],
   "source": [
    "def solve(lower, upper):\n",
    "    total = 0\n",
    "    iterationMax = int(math.log(upper, 5))\n",
    "    \n",
    "    for i in range(iterationMax+1):\n",
    "        newLower = int(lower / 5**i)\n",
    "        newUpper = int(upper / 5**i)\n",
    "        low = int(math.log(newLower, 3))\n",
    "        high = int(math.log(newUpper, 3))\n",
    "        total += high-low\n",
    "        \n",
    "    return total"
   ]
  },
  {
   "cell_type": "code",
   "execution_count": 5,
   "id": "b73f534f-9a88-4cdf-8215-f66c16946383",
   "metadata": {},
   "outputs": [
    {
     "name": "stdout",
     "output_type": "stream",
     "text": [
      "3\n"
     ]
    }
   ],
   "source": [
    "import math\n",
    "\n",
    "x = (int)(math.log(450, 5))\n",
    "print(x)"
   ]
  },
  {
   "cell_type": "code",
   "execution_count": 14,
   "id": "2f0c8184-ec6b-43c3-89ba-e4c3a98b2dac",
   "metadata": {},
   "outputs": [
    {
     "data": {
      "text/plain": [
       "66"
      ]
     },
     "execution_count": 14,
     "metadata": {},
     "output_type": "execute_result"
    }
   ],
   "source": [
    "int(200/3)"
   ]
  },
  {
   "cell_type": "code",
   "execution_count": 18,
   "id": "244c9369-1395-43d6-a830-f70f184ae17b",
   "metadata": {},
   "outputs": [
    {
     "data": {
      "text/plain": [
       "4"
      ]
     },
     "execution_count": 18,
     "metadata": {},
     "output_type": "execute_result"
    }
   ],
   "source": [
    "solve(200, 450)"
   ]
  },
  {
   "cell_type": "code",
   "execution_count": 21,
   "id": "3d1359b0-eeab-45c3-81c6-ef5d75917b1c",
   "metadata": {},
   "outputs": [
    {
     "data": {
      "text/plain": [
       "9223372036854775807"
      ]
     },
     "execution_count": 21,
     "metadata": {},
     "output_type": "execute_result"
    }
   ],
   "source": [
    "import sys\n",
    "\n",
    "sys.maxsize"
   ]
  },
  {
   "cell_type": "code",
   "execution_count": null,
   "id": "bd4dbfd0-da20-497f-9310-dad6fc826000",
   "metadata": {},
   "outputs": [],
   "source": []
  }
 ],
 "metadata": {
  "kernelspec": {
   "display_name": "Python 3",
   "language": "python",
   "name": "python3"
  },
  "language_info": {
   "codemirror_mode": {
    "name": "ipython",
    "version": 3
   },
   "file_extension": ".py",
   "mimetype": "text/x-python",
   "name": "python",
   "nbconvert_exporter": "python",
   "pygments_lexer": "ipython3",
   "version": "3.8.8"
  }
 },
 "nbformat": 4,
 "nbformat_minor": 5
}
